{
 "cells": [
  {
   "cell_type": "markdown",
   "metadata": {},
   "source": [
    "1. Сравните метрики hit_rate@k, precision@k.   \n",
    "Какую метрику использовать предпочтительно и почему?  \n",
    "Приведите пример 2-3 задач (опишите, что является клиентом, что товаром), в которой более уместно использовать метрику hit_rate?\n"
   ]
  },
  {
   "cell_type": "markdown",
   "metadata": {},
   "source": [
    "hit_rate@k Покажет был ли хотябы 1 ролевантный товар из рекомендации , а precision@k покажет процент товаров из рекомендации который купил пользователь. \n",
    "\n",
    "Предпочтительнее использовать precision@k так как метрика даст понять на сколько точно мы рекомендуем товар.\n",
    "\n",
    "Плейлисты с музыкой , клиент - пользователь, товар - плейлист. -- используя hit_rate@k можно будет понять выбирал ли пользователь товар если да то precision@k подскажет насколько хорошо была составлена рекомендация. \n",
    "\n",
    "Запрос в поисковой системе , клиент - пользователь , товар - ссылка  "
   ]
  },
  {
   "cell_type": "markdown",
   "metadata": {},
   "source": [
    "2. В метрике NDCG@k мы используем логарифм в знаменателе. Как Вы думаете, почему именно логарифм? Какую функцию можно использовать вместо логарифма? Привидите пример метрик/подходов к предобработке данных/функций ошибок в ML, где также в  логарифм.\n",
    "\n"
   ]
  },
  {
   "cell_type": "markdown",
   "metadata": {},
   "source": [
    "Логарифм используется потому что, с точки зрения ранжирования позиции в начале списка отличаются гораздо сильнее, чем позиции в его конце.\n",
    "В место логарифма можно использовать сигмойду . Logloss, параметром log в библиотеках визуализаций можно перевести ось в логарифическую\n"
   ]
  },
  {
   "cell_type": "markdown",
   "metadata": {},
   "source": [
    "3. Какие еще метрики (Вы можете вспомнить уже пройденные Вами или посмотреть в интернете) могут использоваться для рекомендательных систем (приведите примеры метрики **и чем являются интеракции**, чтобы она могла быть использована)."
   ]
  },
  {
   "cell_type": "markdown",
   "metadata": {},
   "source": [
    "Recall, map@K , MRR."
   ]
  },
  {
   "cell_type": "markdown",
   "metadata": {},
   "source": [
    "4. boughted = [1, 3, 5, 7, 9, 11]  \n",
    "recommended = [2, 5, 7, 4, 11, 9, 8, 10, 12, 3]  \n",
    "Посчитайте на этих данных pr@8, rec@8, AP@8, NDCG@8, RR@8, ERR@8 (expected reciprocal rank)  \n",
    "Сначала поссчитайет \"руками\", а затем подтвердите рассчеты с помощью функций (некоторые были на семинаре, некоторые нужно будут написать самостоятельно)"
   ]
  },
  {
   "cell_type": "markdown",
   "metadata": {},
   "source": [
    "**Пример выполнения 4го задания**\n",
    "\n",
    "MSE на  \n",
    "$y = [0, 2]$  \n",
    "$y_{pred} = [1, 2]$\n",
    "\n",
    "MSE = $0.5*((0 - 1)^2 + (2-2)^2) = 0.5$ "
   ]
  },
  {
   "cell_type": "code",
   "execution_count": 1,
   "metadata": {},
   "outputs": [
    {
     "data": {
      "text/plain": [
       "0.5"
      ]
     },
     "execution_count": 1,
     "metadata": {},
     "output_type": "execute_result"
    }
   ],
   "source": [
    "import numpy as np\n",
    "((np.array([0, 2]) - np.array([1, 2]))**2).mean()"
   ]
  },
  {
   "cell_type": "code",
   "execution_count": 2,
   "metadata": {},
   "outputs": [],
   "source": [
    "boughted = [1, 3, 5, 7, 9, 11]\n",
    "recommended = [2, 5, 7, 4, 11, 9, 8, 10, 12, 3]"
   ]
  },
  {
   "cell_type": "markdown",
   "metadata": {},
   "source": [
    "pr@8 = (0 + 0 + 1 + 1 + 1 + 1) / 8 = 0.5\n"
   ]
  },
  {
   "cell_type": "code",
   "execution_count": 3,
   "metadata": {},
   "outputs": [],
   "source": [
    "def precision_at_k(recommended_list, bought_list, k=8):\n",
    "    \n",
    "    bought_list = np.array(bought_list)\n",
    "    recommended_list = np.array(recommended_list)\n",
    "    \n",
    "    bought_list = bought_list  # Тут нет [:k] !!\n",
    "    recommended_list = recommended_list[:k]\n",
    "    \n",
    "    flags = np.isin(bought_list, recommended_list)\n",
    "    precision = flags.sum() / len(recommended_list)\n",
    "    \n",
    "    \n",
    "    return precision"
   ]
  },
  {
   "cell_type": "code",
   "execution_count": 4,
   "metadata": {},
   "outputs": [
    {
     "data": {
      "text/plain": [
       "0.5"
      ]
     },
     "execution_count": 4,
     "metadata": {},
     "output_type": "execute_result"
    }
   ],
   "source": [
    "precision_at_k(recommended,boughted)"
   ]
  },
  {
   "cell_type": "markdown",
   "metadata": {},
   "source": [
    "rec@8 =  (0 + 0 + 1 + 1 + 1 + 1) / 6 = 0.66"
   ]
  },
  {
   "cell_type": "code",
   "execution_count": 5,
   "metadata": {},
   "outputs": [],
   "source": [
    "def recall_at_k(recommended_list, bought_list, k=8):\n",
    "    bought_list = np.array(bought_list)\n",
    "    recommended_list = np.array(recommended_list)[:k]\n",
    "    \n",
    "    flags = np.isin(bought_list, recommended_list)\n",
    "    \n",
    "    recall = flags.sum() / len(bought_list)\n",
    "    \n",
    "    return recall"
   ]
  },
  {
   "cell_type": "code",
   "execution_count": 6,
   "metadata": {},
   "outputs": [
    {
     "data": {
      "text/plain": [
       "0.6666666666666666"
      ]
     },
     "execution_count": 6,
     "metadata": {},
     "output_type": "execute_result"
    }
   ],
   "source": [
    "recall_at_k(recommended, boughted)"
   ]
  },
  {
   "cell_type": "markdown",
   "metadata": {},
   "source": [
    "flags = ( 0 + 1 + 1 + 0 + 1 + 1 + 0 + 0 + 0 + 1)\n",
    "\n",
    "pr@1 = (0 + 0 + 0 + 0 + 0 + 0) / 1 = 0\n",
    "pr@2 = (0 + 0 + 1 + 0 + 0 + 0) / 2 = 0.5\n",
    "pr@3 = (0 + 0 + 1 + 1 + 0 + 0) / 3 = 0.66\n",
    "pr@4 = (0 + 0 + 1 + 1 + 0 + 0) / 4 = 0.5\n",
    "pr@5 = (0 + 0 + 1 + 1 + 0 + 1) / 5 = 0.6\n",
    "pr@6 = (0 + 0 + 1 + 1 + 1 + 1) / 6 = 0.66\n",
    "pr@7 = (0 + 0 + 1 + 1 + 1 + 1) / 7 = 0.57\n",
    "pr@8 = (0 + 0 + 1 + 1 + 1 + 1) / 8 = 0.5\n",
    "\n",
    "ap@8 = (0.5 + 0.5 + 0.6 ) / 10 =  0.16"
   ]
  },
  {
   "cell_type": "code",
   "execution_count": 7,
   "metadata": {},
   "outputs": [],
   "source": [
    "def ap_k(recommended_list, bought_list, k=8):\n",
    "    \n",
    "    bought_list = np.array(bought_list)\n",
    "    recommended_list = np.array(recommended_list)\n",
    "    \n",
    "    flags = np.isin(recommended_list, bought_list)\n",
    "    \n",
    "    if sum(flags) == 0:\n",
    "        return 0\n",
    "    \n",
    "    sum_ = 0\n",
    "    for i in range(1, k+1): \n",
    "        if flags[i] == True:\n",
    "            p_k = precision_at_k(recommended_list, bought_list, k=i)\n",
    "            sum_ += p_k\n",
    "            \n",
    "    result = sum_ / len(flags)\n",
    "    \n",
    "    return result"
   ]
  },
  {
   "cell_type": "code",
   "execution_count": 8,
   "metadata": {},
   "outputs": [
    {
     "data": {
      "text/plain": [
       "0.16"
      ]
     },
     "execution_count": 8,
     "metadata": {},
     "output_type": "execute_result"
    }
   ],
   "source": [
    "ap_k(recommended, boughted)"
   ]
  },
  {
   "cell_type": "code",
   "execution_count": 9,
   "metadata": {},
   "outputs": [],
   "source": [
    "recommended = [2, 5, 7, 4, 11, 9, 8, 10, 12, 3]\n",
    "boughted = [1, 3, 5, 7, 9, 11]"
   ]
  },
  {
   "cell_type": "code",
   "execution_count": 11,
   "metadata": {},
   "outputs": [],
   "source": [
    "# 0 1 1 0 1 1 0 0"
   ]
  },
  {
   "cell_type": "markdown",
   "metadata": {},
   "source": [
    "NDCG@8 = DCG@8/IDCG@8 = 0.282125 / 0.699625 = 0.403\n",
    "\n",
    "\n",
    "DCG@8 = (1/8) * (0 + 1/log(2) + 1/log(3) + 0 + 1/log(5) + 1/log(6) + 0 + 0) = 1/8 * (0.3 + 0.477 + 0.7 + 0.78) = 1/8 * 2.257 = 0.282125\n",
    "\n",
    "\n",
    "\n",
    "IDCG@8 = (1/8) * (1/1 + 1/log(2) + 1/log(3) + 1/log(4) + 1/log(5) + 1/log(6) + 1/log(7) + 1/ log(8)) = 1/8 * (1 + 0.3 + 0.477 + 0.6 + 0.7 + 0.78 + 0.84 + 0.90) = 1/8 * 5.597 = 0.699625\n",
    "\n"
   ]
  },
  {
   "cell_type": "code",
   "execution_count": null,
   "metadata": {},
   "outputs": [],
   "source": []
  },
  {
   "cell_type": "code",
   "execution_count": null,
   "metadata": {},
   "outputs": [],
   "source": []
  },
  {
   "cell_type": "code",
   "execution_count": null,
   "metadata": {},
   "outputs": [],
   "source": []
  },
  {
   "cell_type": "code",
   "execution_count": null,
   "metadata": {},
   "outputs": [],
   "source": []
  },
  {
   "cell_type": "code",
   "execution_count": null,
   "metadata": {},
   "outputs": [],
   "source": []
  }
 ],
 "metadata": {
  "kernelspec": {
   "display_name": "Python 3",
   "language": "python",
   "name": "python3"
  },
  "language_info": {
   "codemirror_mode": {
    "name": "ipython",
    "version": 3
   },
   "file_extension": ".py",
   "mimetype": "text/x-python",
   "name": "python",
   "nbconvert_exporter": "python",
   "pygments_lexer": "ipython3",
   "version": "3.8.6"
  }
 },
 "nbformat": 4,
 "nbformat_minor": 4
}
